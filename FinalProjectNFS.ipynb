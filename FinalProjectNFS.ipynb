{
 "cells": [
  {
   "cell_type": "code",
   "execution_count": 273,
   "metadata": {},
   "outputs": [],
   "source": [
    "from pyspark.sql import SparkSession\n",
    "from pyspark.sql.types import *\n",
    "import pandas as pa\n",
    "import h5py\n",
    "import sys\n",
    "import io\n",
    "import time\n",
    "import matplotlib.pyplot as plt\n",
    "\n",
    "# Start measuring time.\n",
    "startTime = time.time()\n",
    "\n",
    "# New API\n",
    "spark_session = SparkSession\\\n",
    "        .builder\\\n",
    "        .master(\"spark://192.168.1.153:7077\") \\\n",
    "        .appName(\"Team 01 Georgios Nentidis Final Project\")\\\n",
    "        .config(\"spark.dynamicAllocation.enabled\", True)\\\n",
    "        .config(\"spark.shuffle.service.enabled\", True)\\\n",
    "        .config(\"spark.dynamicAllocation.executorIdleTimeout\",\"30s\")\\\n",
    "        .config(\"spark.executor.cores\",7)\\\n",
    "        .getOrCreate()\n",
    "\n",
    "# Old API (RDD)\n",
    "spark_context = spark_session.sparkContext\n"
   ]
  },
  {
   "cell_type": "code",
   "execution_count": 274,
   "metadata": {
    "scrolled": true
   },
   "outputs": [
    {
     "name": "stdout",
     "output_type": "stream",
     "text": [
      "root\n",
      " |-- artistName: string (nullable = true)\n",
      " |-- artistFamiliarity: float (nullable = true)\n",
      " |-- artistHottness: float (nullable = true)\n",
      " |-- artistLatitude: float (nullable = true)\n",
      " |-- artistLongitude: float (nullable = true)\n",
      " |-- artistLocation: string (nullable = true)\n",
      " |-- songHotttnesss: float (nullable = true)\n",
      " |-- title: string (nullable = true)\n",
      " |-- songId: string (nullable = true)\n",
      " |-- danceability: float (nullable = true)\n",
      " |-- duration: float (nullable = true)\n",
      " |-- energy: float (nullable = true)\n",
      " |-- key: integer (nullable = true)\n",
      " |-- loudness: float (nullable = true)\n",
      " |-- mode: integer (nullable = true)\n",
      " |-- tempo: float (nullable = true)\n",
      " |-- year: integer (nullable = true)\n",
      "\n",
      "+--------------------+-----------------+--------------+--------------+---------------+--------------------+--------------+--------------------+------------------+------------+---------+------+---+--------+----+-------+----+\n",
      "|          artistName|artistFamiliarity|artistHottness|artistLatitude|artistLongitude|      artistLocation|songHotttnesss|               title|            songId|danceability| duration|energy|key|loudness|mode|  tempo|year|\n",
      "+--------------------+-----------------+--------------+--------------+---------------+--------------------+--------------+--------------------+------------------+------------+---------+------+---+--------+----+-------+----+\n",
      "|   Donna The Buffalo|       0.57553244|    0.37453002|           NaN|            NaN|                    |     0.3041695|       Broken Record|SOHGLOP12AB017DC66|         0.0|196.75383|   0.0|  4|  -5.864|   1| 86.012|   0|\n",
      "|       The Gathering|       0.78030986|    0.48568237|           NaN|            NaN|                    |           0.0|         Locked Away|SOFVHDU12A67ADE7AA|         0.0|215.71873|   0.0|  0|  -13.91|   1|105.937|   0|\n",
      "|Endellion String ...|       0.36950427|    0.31803498|           NaN|            NaN|                    |           NaN|String Quartets O...|SOUFBFK12A8C13D668|         0.0|348.60364|   0.0|  0| -24.839|   1| 73.306|   0|\n",
      "|      Razed in Black|        0.6455089|    0.44372493|           NaN|            NaN|                    |    0.48512235|          Better Off|SOOPBBJ12A8C137ACF|         0.0|345.28607|   0.0| 10|  -5.443|   0| 87.999|1999|\n",
      "|      The Muckrakers|       0.54708356|     0.3521894|       43.7427|      -84.62167|            Michigan|           0.0|   Beautiful Goodbye|SOSYXKU12AB017FA2B|         0.0|211.25179|   0.0|  4|  -7.344|   1| 99.008|   0|\n",
      "|    Henry Lee Summer|        0.4882785|    0.25574818|      39.52517|       -87.1187|          Brazil, IN|     0.4806106| I Wish I Had A Girl|SOHLVJA12A8C131840|         0.0| 266.4224|   0.0|  9| -10.228|   1| 127.68|1988|\n",
      "|        Jim Gaffigan|        0.6107096|     0.5314482|           NaN|            NaN|  NY - New York City|     0.6968421|Guy With The Red ...|SODEXHR12A6D4F59D3|         0.0|175.93423|   0.0|  5| -18.763|   0|119.239|   0|\n",
      "|              Remute|        0.5931007|    0.36116743|           NaN|            NaN|                    |           NaN|   Allnight Allright|SOKVHWH12AB0185878|         0.0| 331.2061|   0.0| 11|  -8.056|   0| 130.02|   0|\n",
      "|           Rico Pupa|        0.8349223|     0.5002154|           NaN|            NaN|                    |    0.39200878|    Te Decourage Pas|SOMGGOB12A67ADCE5F|         0.0|251.50648|   0.0|  1|  -6.155|   1|152.088|   0|\n",
      "|        Tom Cochrane|       0.59036034|    0.37178674|      56.85147|     -101.04893|Lynn Lake, Manito...|           0.0|Paper Tigers (aco...|SOTWQOG12A6D4F9421|         0.0| 220.8126|   0.0|  2|  -6.918|   1|119.331|1997|\n",
      "|        Janie Fricke|       0.45308524|    0.38266808|      45.49919|      -78.24499|   South Whitney, IN|           NaN|Let's Stop Talkin...|SOPFSDI12AAF3B4929|         0.0| 194.5073|   0.0|  4| -12.061|   1| 130.02|1999|\n",
      "|       Debbie Gibson|        0.5936971|    0.41725758|           NaN|            NaN|   GRIFFITH, Indiana|    0.34092274|        Fallen Angel|SOOGKYQ12AB0182AEC|         0.0|223.50322|   0.0|  7| -10.939|   1|124.486|1987|\n",
      "|Igor Stravinsky;C...|       0.63325834|    0.49576634|           NaN|            NaN|                    |           NaN|Le Sacre du Print...|SOBUUZH12AF72A5BBC|         0.0|181.26321|   0.0|  1| -30.726|   1|106.343|   0|\n",
      "|         Bitch Alert|        0.5156891|     0.4067263|           NaN|            NaN|                    |     0.5382339|               Sandy|SOZRMFL12A6D4F7966|         0.0|219.42812|   0.0|  8|  -4.006|   0|145.073|2001|\n",
      "|                InMe|        0.6362382|    0.47428876|           NaN|            NaN|               Essex|           NaN|You won't hear fr...|SOCHBOQ12AC3DFA570|         0.0|295.78403|   0.0|  6|  -6.677|   0|123.649|2009|\n",
      "|      Dottie Peoples|       0.50557697|      0.375184|           NaN|            NaN|                    |    0.26745406|Give Me Another C...|SOUJNFW12AAF3B5522|         0.0|335.82974|   0.0|  5|  -6.812|   0|153.364|   0|\n",
      "|       Jackie Wilson|       0.69332796|    0.41940814|      42.33168|      -83.04792|         Detroit, MI|    0.26586103|Each Time (I Love...|SOQVOUZ12AC468B719|         0.0|141.81831|   0.0|  0| -14.819|   1|106.328|1959|\n",
      "|           Aphrodite|        0.6312455|     0.4265678|           NaN|            NaN|                    |     0.3759843|Interlude - Children|SOHFNEH12AB0181FBC|         0.0| 30.01424|   0.0|  3| -17.509|   1|113.519|   0|\n",
      "|           Pat Kelly|       0.50907475|    0.36930156|      18.01571|      -76.79731|   Kingston, Jamaica|           0.0|You and Your Smil...|SOMRQGE12A8C145CE6|         0.0|313.49506|   0.0| 11|  -9.358|   0|149.047|   0|\n",
      "|        Arthur Brown|       0.56746125|    0.38321096|           NaN|            NaN|Whitby, Yorkshire...|     0.6362872| Child Of My Kingdom|SOGGMZY12A6701FE43|         0.0|422.16443|   0.0|  5|   -14.1|   0|114.754|1968|\n",
      "+--------------------+-----------------+--------------+--------------+---------------+--------------------+--------------+--------------------+------------------+------------+---------+------+---+--------+----+-------+----+\n",
      "only showing top 20 rows\n",
      "\n"
     ]
    }
   ],
   "source": [
    "#########################################################\n",
    "# Load HDF5 files and create a DataFrame out of them\n",
    "#########################################################\n",
    "\n",
    "def f(x):\n",
    "    \n",
    "    # x[0] = filename\n",
    "    # x[1] = binary content\n",
    "    with h5py.File(io.BytesIO(x[1])) as f:\n",
    "\n",
    "        # Convert all data into Python data types.\n",
    "        artistName          = f['metadata']['songs']['artist_name'][0].decode('UTF-8')\n",
    "        artistFamiliarity   = f['metadata']['songs']['artist_familiarity'][0].item()\n",
    "        artistHottness      = f['metadata']['songs']['artist_hotttnesss'][0].item()\n",
    "        artistLatitude      = f['metadata']['songs']['artist_latitude'][0].item()\n",
    "        artistLongitude     = f['metadata']['songs']['artist_longitude'][0].item()\n",
    "        artistLocation      = f['metadata']['songs']['artist_location'][0].decode('UTF-8')\n",
    "        songHotttnesss      = f['metadata']['songs']['song_hotttnesss'][0].item()\n",
    "        title               = f['metadata']['songs']['title'][0].decode('UTF-8')\n",
    "        ##artist_terms        = fh5.root.metadata.songs.cols.artist_terms\n",
    "        ##artist_terms_freq   = fh5.root.metadata.songs.cols.artist_terms_freq\n",
    "        ##artist_terms_weight = fh5.root.metadata.songs.cols.artist_terms_weight\n",
    "        songId              = f['metadata']['songs']['song_id'][0].decode('UTF-8')\n",
    "        danceability        = f['analysis']['songs']['danceability'][0].item()\n",
    "        duration            = f['analysis']['songs']['duration'][0].item()\n",
    "        energy              = f['analysis']['songs']['energy'][0].item()\n",
    "        key                 = f['analysis']['songs']['key'][0].item()\n",
    "        loudness            = f['analysis']['songs']['loudness'][0].item()\n",
    "        mode                = f['analysis']['songs']['mode'][0].item()\n",
    "        tempo               = f['analysis']['songs']['tempo'][0].item()\n",
    "        year                = f['musicbrainz']['songs']['year'][0].item()\n",
    "    \n",
    "    return [artistName, artistFamiliarity, artistHottness, artistLatitude, artistLongitude, artistLocation, \n",
    "            songHotttnesss, title, songId, danceability, duration, energy, \n",
    "            key, loudness, mode, tempo, year]\n",
    "\n",
    "# Load files, convert and collect them\n",
    "#rdd = spark_context.binaryFiles(\"/mnt/ms/data/A/A/*/*,/mnt/ms/data/A/B/*/*,/mnt/ms/data/A/C/*/*,/mnt/ms/data/B/A/*/*,/mnt/ms/data/C/A/*/*,/mnt/ms/data/D/A/*/*,/mnt/ms/data/E/A/*/*,/mnt/ms/data/F/A/*/*\")\n",
    "rdd = spark_context.binaryFiles(\"/mnt/ms/data/A/*/*/*,/mnt/ms/data/B/*/*/*,/mnt/ms/data/C/*/*/*\")\n",
    "rdd = rdd.map(f)\n",
    "rdd.collect()\n",
    "\n",
    "# Conver the RDD into a DataFrame. We need DataFrames for playing with the data and for the Classifiers\n",
    "fields = [StructField(\"artistName\", StringType(), True), StructField(\"artistFamiliarity\", FloatType(), True),\n",
    "         StructField(\"artistHottness\", FloatType(), True), StructField(\"artistLatitude\", FloatType(), True),\n",
    "         StructField(\"artistLongitude\", FloatType(), True), StructField(\"artistLocation\", StringType(), True),\n",
    "         StructField(\"songHotttnesss\", FloatType(), True), StructField(\"title\", StringType(), True),\n",
    "         StructField(\"songId\", StringType(), True), StructField(\"danceability\", FloatType(), True),\n",
    "         StructField(\"duration\", FloatType(), True), StructField(\"energy\", FloatType(), True),\n",
    "         StructField(\"key\", IntegerType(), True), StructField(\"loudness\", FloatType(), True),\n",
    "         StructField(\"mode\", IntegerType(), True), StructField(\"tempo\", FloatType(), True),\n",
    "         StructField(\"year\", IntegerType(), True)]\n",
    "schema = StructType(fields)\n",
    "\n",
    "# Apply the schema to the RDD.\n",
    "songs = spark_session.createDataFrame(rdd, schema)\n",
    "songs.printSchema()\n",
    "songs.show()"
   ]
  },
  {
   "cell_type": "code",
   "execution_count": 275,
   "metadata": {},
   "outputs": [
    {
     "name": "stdout",
     "output_type": "stream",
     "text": [
      "115976\n"
     ]
    }
   ],
   "source": [
    "totalSongs = songs.count()\n",
    "print( totalSongs )"
   ]
  },
  {
   "cell_type": "code",
   "execution_count": null,
   "metadata": {},
   "outputs": [],
   "source": [
    "songs.rdd.getNumPartitions()"
   ]
  },
  {
   "cell_type": "markdown",
   "metadata": {},
   "source": [
    "songs.rdd.getNumPartitions()"
   ]
  },
  {
   "cell_type": "code",
   "execution_count": 276,
   "metadata": {},
   "outputs": [
    {
     "name": "stdout",
     "output_type": "stream",
     "text": [
      "+--------------------+-------------------+-------------------+------------------+------------------+--------------------+-------------------+--------------------+------------------+------------+------------------+------+----+-------------------+----+------------------+------+\n",
      "|          artistName|  artistFamiliarity|     artistHottness|    artistLatitude|   artistLongitude|      artistLocation|     songHotttnesss|               title|            songId|danceability|          duration|energy| key|           loudness|mode|             tempo|  year|\n",
      "+--------------------+-------------------+-------------------+------------------+------------------+--------------------+-------------------+--------------------+------------------+------------+------------------+------+----+-------------------+----+------------------+------+\n",
      "|   Donna The Buffalo| 0.5755324363708496|0.37453001737594604|               0.0|               0.0|                    |0.30416950583457947|       Broken Record|SOHGLOP12AB017DC66|         0.0| 196.7538299560547|   0.0| 4.0| -5.863999843597412| 1.0| 86.01200103759766|   0.0|\n",
      "|       The Gathering| 0.7803098559379578| 0.4856823682785034|               0.0|               0.0|                    |                0.0|         Locked Away|SOFVHDU12A67ADE7AA|         0.0|215.71873474121094|   0.0| 0.0| -13.90999984741211| 1.0|105.93699645996094|   0.0|\n",
      "|      Razed in Black|  0.645508885383606|0.44372493028640747|               0.0|               0.0|                    |0.48512235283851624|          Better Off|SOOPBBJ12A8C137ACF|         0.0|345.28607177734375|   0.0|10.0| -5.442999839782715| 0.0|  87.9990005493164|1999.0|\n",
      "|      The Muckrakers| 0.5470835566520691|0.35218939185142517|43.742698669433594|-84.62167358398438|            Michigan|                0.0|   Beautiful Goodbye|SOSYXKU12AB017FA2B|         0.0| 211.2517852783203|   0.0| 4.0| -7.343999862670898| 1.0| 99.00800323486328|   0.0|\n",
      "|    Henry Lee Summer|0.48827850818634033| 0.2557481825351715|39.525169372558594|-87.11869812011719|          Brazil, IN|0.48061060905456543| I Wish I Had A Girl|SOHLVJA12A8C131840|         0.0| 266.4223937988281|   0.0| 9.0|-10.227999687194824| 1.0|127.68000030517578|1988.0|\n",
      "|        Jim Gaffigan| 0.6107096076011658| 0.5314481854438782|               0.0|               0.0|  NY - New York City| 0.6968420743942261|Guy With The Red ...|SODEXHR12A6D4F59D3|         0.0|175.93423461914062|   0.0| 5.0| -18.76300048828125| 0.0|119.23899841308594|   0.0|\n",
      "|           Rico Pupa| 0.8349223136901855| 0.5002154111862183|               0.0|               0.0|                    |0.39200878143310547|    Te Decourage Pas|SOMGGOB12A67ADCE5F|         0.0|251.50648498535156|   0.0| 1.0|  -6.15500020980835| 1.0|152.08799743652344|   0.0|\n",
      "|        Tom Cochrane| 0.5903603434562683| 0.3717867434024811|56.851470947265625|-101.0489273071289|Lynn Lake, Manito...|                0.0|Paper Tigers (aco...|SOTWQOG12A6D4F9421|         0.0|220.81260681152344|   0.0| 2.0| -6.918000221252441| 1.0|119.33100128173828|1997.0|\n",
      "|       Debbie Gibson| 0.5936970710754395| 0.4172575771808624|               0.0|               0.0|   GRIFFITH, Indiana| 0.3409227430820465|        Fallen Angel|SOOGKYQ12AB0182AEC|         0.0| 223.5032196044922|   0.0| 7.0|-10.939000129699707| 1.0|124.48600006103516|1987.0|\n",
      "|         Bitch Alert| 0.5156890749931335|0.40672630071640015|               0.0|               0.0|                    | 0.5382338762283325|               Sandy|SOZRMFL12A6D4F7966|         0.0|219.42811584472656|   0.0| 8.0|  -4.00600004196167| 0.0|  145.072998046875|2001.0|\n",
      "|      Dottie Peoples| 0.5055769681930542|0.37518399953842163|               0.0|               0.0|                    |    0.2674540579319|Give Me Another C...|SOUJNFW12AAF3B5522|         0.0| 335.8297424316406|   0.0| 5.0| -6.811999797821045| 0.0|153.36399841308594|   0.0|\n",
      "|       Jackie Wilson| 0.6933279633522034| 0.4194081425666809| 42.33168029785156|-83.04792022705078|         Detroit, MI|0.26586103439331055|Each Time (I Love...|SOQVOUZ12AC468B719|         0.0| 141.8183135986328|   0.0| 0.0|-14.819000244140625| 1.0| 106.3280029296875|1959.0|\n",
      "|           Aphrodite|  0.631245493888855|0.42656779289245605|               0.0|               0.0|                    | 0.3759843111038208|Interlude - Children|SOHFNEH12AB0181FBC|         0.0|30.014240264892578|   0.0| 3.0|-17.509000778198242| 1.0|113.51899719238281|   0.0|\n",
      "|           Pat Kelly| 0.5090747475624084|0.36930155754089355|18.015710830688477|-76.79730987548828|   Kingston, Jamaica|                0.0|You and Your Smil...|SOMRQGE12A8C145CE6|         0.0|313.49505615234375|   0.0|11.0| -9.357999801635742| 0.0| 149.0469970703125|   0.0|\n",
      "|        Arthur Brown| 0.5674612522125244| 0.3832109570503235|               0.0|               0.0|Whitby, Yorkshire...| 0.6362872123718262| Child Of My Kingdom|SOGGMZY12A6701FE43|         0.0| 422.1644287109375|   0.0| 5.0|-14.100000381469727| 0.0|114.75399780273438|1968.0|\n",
      "|          Derek Bell| 0.3708488643169403| 0.3268101215362549| 54.59579849243164|-5.934939861297607|Belfast, Northern...|0.33470654487609863|     Sake In The Jar|SOQDIQK12A8C13CB23|         0.0|  268.329345703125|   0.0| 7.0|-10.506999969482422| 1.0| 89.15799713134766|   0.0|\n",
      "|Paul Kantner and ...| 0.5221579074859619|0.15665821731090546|               0.0|               0.0|                    |0.31713005900382996|              Hijack|SOWPJUE12A8C13FDFA|         0.0| 497.7628173828125|   0.0| 7.0|-15.178000450134277| 0.0| 70.23699951171875|1970.0|\n",
      "|       The Cube Guys| 0.5437487363815308|0.38514941930770874|               0.0|               0.0|                    |                0.0|Baba O'Riley (Don...|SOQGKFF12A8C13A6C7|         0.0| 405.5766906738281|   0.0| 0.0| -7.296999931335449| 1.0|128.00799560546875|   0.0|\n",
      "|      Karrin Allyson| 0.5747306942939758|0.36848682165145874| 38.36600875854492|   -98.76513671875|      Great Bend, KS| 0.5314559936523438|     Blue Motel Room|SOCSJAO12AB017FE29|         0.0| 362.9709777832031|   0.0| 2.0|-17.292999267578125| 1.0| 92.68000030517578|2002.0|\n",
      "|    Hecate Enthroned| 0.5778098702430725|0.41442129015922546|               0.0|               0.0|                    | 0.3864772915840149|           I Am Born|SOXNPCQ12AB01800F1|         0.0|226.32443237304688|   0.0| 7.0| -8.135000228881836| 1.0| 161.8780059814453|1999.0|\n",
      "+--------------------+-------------------+-------------------+------------------+------------------+--------------------+-------------------+--------------------+------------------+------------+------------------+------+----+-------------------+----+------------------+------+\n",
      "only showing top 20 rows\n",
      "\n"
     ]
    }
   ],
   "source": [
    "# We need song hotness, so filter out all rows without one.\n",
    "from pyspark.sql.functions import isnan, col, when\n",
    "songs = songs.where( ~isnan( col('songHotttnesss') ) )\n",
    "\n",
    "# Replace all NaN values with zeros.\n",
    "columns = songs.columns\n",
    "for column in columns:\n",
    "    songs = songs.withColumn(column, when(isnan(col(column)), 0.0).otherwise(col(column)))\n",
    "\n",
    "songs.show()"
   ]
  },
  {
   "cell_type": "code",
   "execution_count": 277,
   "metadata": {},
   "outputs": [
    {
     "data": {
      "text/plain": [
       "66589"
      ]
     },
     "execution_count": 277,
     "metadata": {},
     "output_type": "execute_result"
    }
   ],
   "source": [
    "songs.count()"
   ]
  },
  {
   "cell_type": "code",
   "execution_count": 278,
   "metadata": {
    "scrolled": true
   },
   "outputs": [
    {
     "data": {
      "image/png": "[encoded data removed]",
      "text/plain": [
       "<Figure size 720x504 with 1 Axes>"
      ]
     },
     "metadata": {},
     "output_type": "display_data"
    },
    {
     "data": {
      "image/png": "[encoded data removed]",
      "text/plain": [
       "<Figure size 720x504 with 1 Axes>"
      ]
     },
     "metadata": {},
     "output_type": "display_data"
    },
    {
     "data": {
      "image/png": "[encoded data removed]",
      "text/plain": [
       "<Figure size 720x504 with 1 Axes>"
      ]
     },
     "metadata": {},
     "output_type": "display_data"
    }
   ],
   "source": [
    "# Play with the data a little\n",
    "\n",
    "# Number of songs per year\n",
    "yearSongs = songs.filter( songs[\"year\"] != 0)\n",
    "count = [item[1] for item in yearSongs.groupBy(\"year\").count().collect()]\n",
    "year = [item[0] for item in yearSongs.groupBy(\"year\").count().collect()]\n",
    "\n",
    "numberOfSongsPerYear = {\"count\":count, \"year\" : year}\n",
    "numberOfSongsPerYear = pa.DataFrame(numberOfSongsPerYear)\n",
    "\n",
    "numberOfSongsPerYear = numberOfSongsPerYear.sort_values(by = \"year\")\n",
    "numberOfSongsPerYear.plot(figsize = (10,7), kind = \"bar\", color = \"blue\", x = \"year\", y = \"count\", legend = False)\n",
    "plt.xlabel(\"\", fontsize = 12)\n",
    "plt.ylabel(\"Number of Songs\", fontsize = 12)\n",
    "plt.title(\"Number of Songs Per Year\", fontsize = 18)\n",
    "#plt.xticks(size = 18)\n",
    "#plt.yticks(size = 18)\n",
    "plt.show()\n",
    "\n",
    "# Duration per year\n",
    "yearMeans = yearSongs.groupby(yearSongs.year).mean()\n",
    "duration = [item[7] for item in yearMeans.collect()]\n",
    "\n",
    "durationOfSongsPerYear = {\"duration\":duration, \"year\" : year}\n",
    "durationOfSongsPerYear = pa.DataFrame(durationOfSongsPerYear)\n",
    "\n",
    "durationOfSongsPerYear = durationOfSongsPerYear.sort_values(by = \"year\")\n",
    "durationOfSongsPerYear.plot(figsize = (10,7), kind = \"line\", color = \"blue\", x = \"year\", y = \"duration\", legend = False)\n",
    "plt.xlabel(\"\", fontsize = 14)\n",
    "plt.ylabel(\"Duration\", fontsize = 14)\n",
    "plt.title(\"Duration Per Year\", fontsize = 18)\n",
    "plt.show()\n",
    "\n",
    "# Loudness per year\n",
    "loudness = [item[10] for item in yearMeans.collect()]\n",
    "\n",
    "loudnessOfSongsPerYear = {\"loudness\":loudness, \"year\" : year}\n",
    "loudnessOfSongsPerYear = pa.DataFrame(loudnessOfSongsPerYear)\n",
    "\n",
    "loudnessOfSongsPerYear = loudnessOfSongsPerYear.sort_values(by = \"year\")\n",
    "loudnessOfSongsPerYear.plot(figsize = (10,7), kind = \"line\", color = \"blue\", x = \"year\", y = \"loudness\", legend = False)\n",
    "plt.xlabel(\"\", fontsize = 14)\n",
    "plt.ylabel(\"Loudness\", fontsize = 14)\n",
    "plt.title(\"Loudness Per Year\", fontsize = 18)\n",
    "plt.show()\n"
   ]
  },
  {
   "cell_type": "code",
   "execution_count": 279,
   "metadata": {},
   "outputs": [
    {
     "name": "stdout",
     "output_type": "stream",
     "text": [
      "0.35597475022952535\n",
      "+-------+\n",
      "|popular|\n",
      "+-------+\n",
      "|      0|\n",
      "|      0|\n",
      "|      1|\n",
      "|      0|\n",
      "|      1|\n",
      "|      1|\n",
      "|      1|\n",
      "|      0|\n",
      "|      0|\n",
      "|      1|\n",
      "|      0|\n",
      "|      0|\n",
      "|      1|\n",
      "|      0|\n",
      "|      1|\n",
      "|      0|\n",
      "|      0|\n",
      "|      0|\n",
      "|      1|\n",
      "|      1|\n",
      "+-------+\n",
      "only showing top 20 rows\n",
      "\n",
      "+-------+-----+\n",
      "|popular|count|\n",
      "+-------+-----+\n",
      "|      1|35596|\n",
      "|      0|30993|\n",
      "+-------+-----+\n",
      "\n"
     ]
    }
   ],
   "source": [
    "songHotnessMean = songs.agg({\"songHotttnesss\": \"avg\"}).collect()[0][0]\n",
    "print( songHotnessMean )\n",
    "\n",
    "# Add a new column called Popular being 1 or 0, based on songHotttnesss being bigger than average or not.\n",
    "from pyspark.sql.functions import udf\n",
    "def mapPopular(songHotness):\n",
    "    if songHotness >= songHotnessMean:\n",
    "        return 1\n",
    "    else:\n",
    "        return 0\n",
    "    \n",
    "popularCol = udf(mapPopular, IntegerType())\n",
    "songs = songs.withColumn('popular', popularCol('songHotttnesss') )\n",
    "songs.select('popular').show()\n",
    "\n",
    "songs.groupBy('popular').count().show()"
   ]
  },
  {
   "cell_type": "code",
   "execution_count": 280,
   "metadata": {},
   "outputs": [
    {
     "name": "stdout",
     "output_type": "stream",
     "text": [
      "['artistName', 'artistFamiliarity', 'artistHottness', 'artistLatitude', 'artistLongitude', 'songHotttnesss', 'danceability', 'duration', 'energy', 'key', 'loudness', 'mode', 'tempo', 'year', 'popular']\n"
     ]
    },
    {
     "data": {
      "text/plain": [
       "['artistName',\n",
       " 'artistFamiliarity',\n",
       " 'artistHottness',\n",
       " 'artistLatitude',\n",
       " 'artistLongitude',\n",
       " 'songHotttnesss',\n",
       " 'danceability',\n",
       " 'duration',\n",
       " 'energy',\n",
       " 'key',\n",
       " 'loudness',\n",
       " 'mode',\n",
       " 'tempo',\n",
       " 'year',\n",
       " 'popular',\n",
       " 'artistName_Index',\n",
       " 'artistFamiliarity_Index',\n",
       " 'artistHottness_Index',\n",
       " 'artistLatitude_Index',\n",
       " 'artistLongitude_Index',\n",
       " 'songHotttnesss_Index',\n",
       " 'danceability_Index',\n",
       " 'duration_Index',\n",
       " 'energy_Index',\n",
       " 'key_Index',\n",
       " 'loudness_Index',\n",
       " 'mode_Index',\n",
       " 'tempo_Index',\n",
       " 'year_Index',\n",
       " 'popular_Index']"
      ]
     },
     "execution_count": 280,
     "metadata": {},
     "output_type": "execute_result"
    }
   ],
   "source": [
    "# Try training\n",
    "from pyspark.ml.feature import StringIndexer\n",
    "\n",
    "# Drop string columns which are not supported.\n",
    "songs = songs.drop('artistLocation')\n",
    "songs = songs.drop('title')\n",
    "songs = songs.drop('songId')\n",
    "\n",
    "# Preparing feature variables.\n",
    "column_names = songs.columns[0:]\n",
    "print( column_names )\n",
    "\n",
    "categoricalColumns = column_names\n",
    "indexers = []\n",
    "for categoricalCol in categoricalColumns:\n",
    "    stringIndexer = StringIndexer(inputCol=categoricalCol, outputCol=categoricalCol+\"_Index\", handleInvalid=\"keep\")\n",
    "    indexers += [stringIndexer]\n",
    "    \n",
    "models = []\n",
    "for model in indexers:\n",
    "    indexer_model = model.fit(songs)\n",
    "    models += [indexer_model]\n",
    "    \n",
    "for i in models:\n",
    "    songs = i.transform(songs)\n",
    "    \n",
    "songs.columns"
   ]
  },
  {
   "cell_type": "code",
   "execution_count": 281,
   "metadata": {},
   "outputs": [],
   "source": [
    "# Applying the model.\n",
    "from pyspark.ml.feature import VectorAssembler\n",
    "from pyspark.ml.classification import LogisticRegression\n",
    "\n",
    "features = songs.columns[1:]\n",
    "feature_vectors = VectorAssembler(inputCols = features, outputCol = \"features\")\n",
    "\n",
    "songs = feature_vectors.transform(songs)\n",
    "songs.columns\n",
    "\n",
    "# Logistic Regression\n",
    "# Split dataset into training and testing data.\n",
    "(trainDF, testDF) = songs.randomSplit( [0.75, 0.25], seed = 12345 )\n",
    "\n",
    "# Create the classfie and train the model.\n",
    "lr = LogisticRegression(labelCol=\"popular\", featuresCol=\"features\", maxIter=10)\n",
    "lrModel = lr.fit(trainDF)\n"
   ]
  },
  {
   "cell_type": "code",
   "execution_count": 282,
   "metadata": {},
   "outputs": [
    {
     "name": "stdout",
     "output_type": "stream",
     "text": [
      "root\n",
      " |-- artistName: string (nullable = true)\n",
      " |-- artistFamiliarity: double (nullable = true)\n",
      " |-- artistHottness: double (nullable = true)\n",
      " |-- artistLatitude: double (nullable = true)\n",
      " |-- artistLongitude: double (nullable = true)\n",
      " |-- songHotttnesss: double (nullable = true)\n",
      " |-- danceability: double (nullable = true)\n",
      " |-- duration: double (nullable = true)\n",
      " |-- energy: double (nullable = true)\n",
      " |-- key: double (nullable = true)\n",
      " |-- loudness: double (nullable = true)\n",
      " |-- mode: double (nullable = true)\n",
      " |-- tempo: double (nullable = true)\n",
      " |-- year: double (nullable = true)\n",
      " |-- popular: integer (nullable = true)\n",
      " |-- artistName_Index: double (nullable = false)\n",
      " |-- artistFamiliarity_Index: double (nullable = false)\n",
      " |-- artistHottness_Index: double (nullable = false)\n",
      " |-- artistLatitude_Index: double (nullable = false)\n",
      " |-- artistLongitude_Index: double (nullable = false)\n",
      " |-- songHotttnesss_Index: double (nullable = false)\n",
      " |-- danceability_Index: double (nullable = false)\n",
      " |-- duration_Index: double (nullable = false)\n",
      " |-- energy_Index: double (nullable = false)\n",
      " |-- key_Index: double (nullable = false)\n",
      " |-- loudness_Index: double (nullable = false)\n",
      " |-- mode_Index: double (nullable = false)\n",
      " |-- tempo_Index: double (nullable = false)\n",
      " |-- year_Index: double (nullable = false)\n",
      " |-- popular_Index: double (nullable = false)\n",
      " |-- features: vector (nullable = true)\n",
      " |-- rawPrediction: vector (nullable = true)\n",
      " |-- probability: vector (nullable = true)\n",
      " |-- prediction: double (nullable = false)\n",
      "\n"
     ]
    }
   ],
   "source": [
    "# Run test data.\n",
    "predicted = lrModel.transform(testDF)\n",
    "predicted.printSchema()"
   ]
  },
  {
   "cell_type": "code",
   "execution_count": 283,
   "metadata": {},
   "outputs": [
    {
     "name": "stdout",
     "output_type": "stream",
     "text": [
      "+-------------------+--------------------+--------------------+----------+\n",
      "|     songHotttnesss|       rawPrediction|         probability|prediction|\n",
      "+-------------------+--------------------+--------------------+----------+\n",
      "| 0.7955096364021301|[-10.562008877892...|[2.58801379398993...|       1.0|\n",
      "| 0.3759843111038208|[-4.8511428257019...|[0.00775876700484...|       1.0|\n",
      "|                0.0|[9.26851135108812...|[0.99990566003918...|       0.0|\n",
      "|0.39690521359443665|[-6.1206645573446...|[0.00219217924052...|       1.0|\n",
      "| 0.3107915222644806|[7.29715222599207...|[0.99932299334970...|       0.0|\n",
      "|                0.0|[7.51746208718813...|[0.99945678504442...|       0.0|\n",
      "| 0.3829350769519806|[-6.1767224524752...|[0.00207291899410...|       1.0|\n",
      "| 0.2669551968574524|[5.81777151031732...|[0.99703459399053...|       0.0|\n",
      "|                0.0|[8.73192798581410...|[0.99983867495639...|       0.0|\n",
      "|0.21508032083511353|[7.25200972000713...|[0.99929175339837...|       0.0|\n",
      "| 0.5684947371482849|[-7.9447825530297...|[3.54381338516389...|       1.0|\n",
      "| 0.2669551968574524|[6.47715251703626...|[0.99846417797428...|       0.0|\n",
      "|                0.0|[10.4560614805811...|[0.99997122749324...|       0.0|\n",
      "| 0.4597249925136566|[-7.3576493866970...|[6.37289278482143...|       1.0|\n",
      "|                0.0|[9.6643952918295,...|[0.99993649924704...|       0.0|\n",
      "| 0.7283222675323486|[-10.482017446804...|[2.80353180833476...|       1.0|\n",
      "| 0.4981708526611328|[-7.1831629497229...|[7.58686488781229...|       1.0|\n",
      "| 0.4240591824054718|[-8.7612147665819...|[1.56669596905223...|       1.0|\n",
      "| 0.5132191181182861|[-8.5028549935401...|[2.02847141266077...|       1.0|\n",
      "|                0.0|[8.66705890325974...|[0.99982786492217...|       0.0|\n",
      "+-------------------+--------------------+--------------------+----------+\n",
      "only showing top 20 rows\n",
      "\n"
     ]
    }
   ],
   "source": [
    "# Display new added columns by the classifier.\n",
    "predicted.select(['songHotttnesss', 'rawPrediction', 'probability', 'prediction']).show()"
   ]
  },
  {
   "cell_type": "code",
   "execution_count": 284,
   "metadata": {},
   "outputs": [
    {
     "name": "stdout",
     "output_type": "stream",
     "text": [
      "+------------------+----+----+\n",
      "|popular_prediction| 0.0| 1.0|\n",
      "+------------------+----+----+\n",
      "|                 1|   0|8914|\n",
      "|                 0|7856|   0|\n",
      "+------------------+----+----+\n",
      "\n"
     ]
    },
    {
     "data": {
      "text/plain": [
       "1.0"
      ]
     },
     "execution_count": 284,
     "metadata": {},
     "output_type": "execute_result"
    }
   ],
   "source": [
    "# Verifiy model\n",
    "predicted.crosstab('popular', 'prediction').show()\n",
    "\n",
    "from sklearn import metrics\n",
    "pactual = predicted.select('popular').toPandas()\n",
    "ppredicted = predicted.select('prediction').toPandas()\n",
    "\n",
    "metrics.accuracy_score(pactual, ppredicted)"
   ]
  },
  {
   "cell_type": "code",
   "execution_count": 285,
   "metadata": {},
   "outputs": [
    {
     "name": "stdout",
     "output_type": "stream",
     "text": [
      "Processed 115976 songs in 6817.472306 seconds.\n"
     ]
    }
   ],
   "source": [
    "endTime = time.time()\n",
    "print( \"Processed %d songs in %0.6f seconds.\" % (totalSongs, endTime - startTime) )\n",
    "\n",
    "# release the cores for another application!\n",
    "spark_context.stop()"
   ]
  },
  {
   "cell_type": "code",
   "execution_count": null,
   "metadata": {},
   "outputs": [],
   "source": []
  }
 ],
 "metadata": {
  "kernelspec": {
   "display_name": "Python 3",
   "language": "python",
   "name": "python3"
  },
  "language_info": {
   "codemirror_mode": {
    "name": "ipython",
    "version": 3
   },
   "file_extension": ".py",
   "mimetype": "text/x-python",
   "name": "python",
   "nbconvert_exporter": "python",
   "pygments_lexer": "ipython3",
   "version": "3.6.7"
  }
 },
 "nbformat": 4,
 "nbformat_minor": 2
}
